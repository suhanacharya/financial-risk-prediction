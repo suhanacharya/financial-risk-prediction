{
 "cells": [
  {
   "cell_type": "code",
   "execution_count": 2,
   "metadata": {
    "_cell_guid": "b1076dfc-b9ad-4769-8c92-a6c4dae69d19",
    "_uuid": "8f2839f25d086af736a60e9eeb907d3b93b6e0e5"
   },
   "outputs": [],
   "source": [
    "# This Python 3 environment comes with many helpful analytics libraries installed\n",
    "# It is defined by the kaggle/python Docker image: https://github.com/kaggle/docker-python\n",
    "# For example, here's several helpful packages to load\n",
    "\n",
    "import numpy as np # linear algebra\n",
    "import pandas as pd # data processing, CSV file I/O (e.g. pd.read_csv)\n",
    "\n",
    "# Input data files are available in the read-only \"../input/\" directory\n",
    "# For example, running this (by clicking run or pressing Shift+Enter) will list all files under the input directory\n",
    "\n",
    "import os\n",
    "for dirname, _, filenames in os.walk('/kaggle/input'):\n",
    "    for filename in filenames:\n",
    "        print(os.path.join(dirname, filename))\n",
    "\n",
    "# You can write up to 5GB to the current directory (/kaggle/working/) that gets preserved as output when you create a version using \"Save & Run All\" \n",
    "# You can also write temporary files to /kaggle/temp/, but they won't be saved outside of the current session"
   ]
  },
  {
   "cell_type": "code",
   "execution_count": 3,
   "metadata": {
    "_cell_guid": "79c7e3d0-c299-4dcb-8224-4455121ee9b0",
    "_uuid": "d629ff2d2480ee46fbb7e2d37f6b5fab8052498a"
   },
   "outputs": [
    {
     "data": {
      "text/plain": [
       "'2.3.0-dev20200515'"
      ]
     },
     "execution_count": 3,
     "metadata": {},
     "output_type": "execute_result"
    }
   ],
   "source": [
    "import tensorflow as tf\n",
    "from tensorflow.keras import regularizers\n",
    "import csv\n",
    "tf.__version__"
   ]
  },
  {
   "cell_type": "code",
   "execution_count": 4,
   "metadata": {},
   "outputs": [],
   "source": [
    "def get_data(filename, data=\"train\"):\n",
    "    with open(filename) as training_file:\n",
    "        csv_reader = csv.reader(training_file, delimiter=',')\n",
    "        next(csv_reader)\n",
    "        temp_features = []\n",
    "        temp_labels = []\n",
    "        val_feat = []\n",
    "        val_lab = []\n",
    "        t = 0\n",
    "        for row in csv_reader:\n",
    "            if data == \"train\":\n",
    "                if t<450:\n",
    "                    temp_features.append(row[1:-2])\n",
    "                    temp_labels.append(row[-1])\n",
    "                    t += 1\n",
    "                else:\n",
    "                    val_feat.append(row[1:-2])\n",
    "                    val_lab.append(row[-1])\n",
    "                    \n",
    "                    \n",
    "            else:\n",
    "                temp_features.append(row[1:-1])\n",
    "                \n",
    "        features = np.array(temp_features).astype('float')\n",
    "        if data == \"train\":\n",
    "            labels = np.array(temp_labels).astype('float')\n",
    "            val_features = np.array(val_feat).astype('float')\n",
    "            val_labels = np.array(val_lab).astype('float')\n",
    "    if data == \"train\":    \n",
    "        return features, labels, val_features, val_labels\n",
    "    else:\n",
    "        return features"
   ]
  },
  {
   "cell_type": "code",
   "execution_count": 5,
   "metadata": {},
   "outputs": [
    {
     "name": "stdout",
     "output_type": "stream",
     "text": [
      "(450, 5)\n",
      "(450,)\n",
      "(93, 5)\n",
      "(93,)\n"
     ]
    }
   ],
   "source": [
    "training_features, training_labels, validation_features, validation_labels = get_data('Train.csv')\n",
    "validation_features /= 10\n",
    "training_features = training_features / 10\n",
    "print(training_features.shape)\n",
    "print(training_labels.shape)\n",
    "print(validation_features.shape)\n",
    "print(validation_labels.shape)"
   ]
  },
  {
   "cell_type": "code",
   "execution_count": 6,
   "metadata": {},
   "outputs": [
    {
     "name": "stdout",
     "output_type": "stream",
     "text": [
      "(233, 5)\n"
     ]
    }
   ],
   "source": [
    "testing_features = get_data('Test.csv', data=\"test\")\n",
    "testing_features = testing_features / 10\n",
    "print(testing_features.shape)"
   ]
  },
  {
   "cell_type": "code",
   "execution_count": 7,
   "metadata": {},
   "outputs": [],
   "source": [
    "class myCallback(tf.keras.callbacks.Callback):\n",
    "  def on_epoch_end(self, epoch, logs={}):\n",
    "    if(logs.get('accuracy')>0.95):\n",
    "      print(\"\\nReached 95% accuracy so cancelling training!\")\n",
    "      self.model.stop_training = True\n",
    "        \n",
    "callbacks = myCallback()"
   ]
  },
  {
   "cell_type": "code",
   "execution_count": 10,
   "metadata": {},
   "outputs": [],
   "source": [
    "model = tf.keras.models.Sequential([\n",
    "    tf.keras.layers.Dense(200, activation='relu', kernel_regularizer=regularizers.l2(0.01), input_shape=[5,]),\n",
    "    # tf.keras.layers.Dense(250, activation='sigmoid', kernel_regularizer=regularizers.l2(0.01)),\n",
    "    # tf.keras.layers.Dropout(0.3),\n",
    "    # tf.keras.layers.Dense(250, activation='sigmoid', kernel_regularizer=regularizers.l2(0.01)),\n",
    "    # tf.keras.layers.Dropout(0.3),\n",
    "    # tf.keras.layers.Dense(250, activation='sigmoid', kernel_regularizer=regularizers.l2(0.01)),\n",
    "    # tf.keras.layers.Dropout(0.3),\n",
    "    # tf.keras.layers.Dense(200, activation='sigmoid', kernel_regularizer=regularizers.l2(0.01)),\n",
    "    # tf.keras.layers.Dropout(0.3),\n",
    "    tf.keras.layers.Dense(100, activation='relu'),\n",
    "    tf.keras.layers.Dense(50, activation='relu', kernel_regularizer=regularizers.l2(0.01)),\n",
    "    tf.keras.layers.Dropout(0.3),\n",
    "    tf.keras.layers.Dense(15, activation='relu', kernel_regularizer=regularizers.l2(0.01)),\n",
    "    tf.keras.layers.Dropout(0.3),\n",
    "    tf.keras.layers.Dense(10, activation='relu', kernel_regularizer=regularizers.l2(0.01)),\n",
    "    tf.keras.layers.Dense(1, activation='sigmoid', kernel_regularizer=regularizers.l2(0.01))\n",
    "])\n",
    "\n"
   ]
  },
  {
   "cell_type": "code",
   "execution_count": 11,
   "metadata": {},
   "outputs": [
    {
     "name": "stdout",
     "output_type": "stream",
     "text": [
      "Model: \"sequential\"\n",
      "_________________________________________________________________\n",
      "Layer (type)                 Output Shape              Param #   \n",
      "=================================================================\n",
      "dense (Dense)                (None, 200)               1200      \n",
      "_________________________________________________________________\n",
      "dense_1 (Dense)              (None, 100)               20100     \n",
      "_________________________________________________________________\n",
      "dense_2 (Dense)              (None, 50)                5050      \n",
      "_________________________________________________________________\n",
      "dropout (Dropout)            (None, 50)                0         \n",
      "_________________________________________________________________\n",
      "dense_3 (Dense)              (None, 15)                765       \n",
      "_________________________________________________________________\n",
      "dropout_1 (Dropout)          (None, 15)                0         \n",
      "_________________________________________________________________\n",
      "dense_4 (Dense)              (None, 10)                160       \n",
      "_________________________________________________________________\n",
      "dense_5 (Dense)              (None, 1)                 11        \n",
      "=================================================================\n",
      "Total params: 27,286\n",
      "Trainable params: 27,286\n",
      "Non-trainable params: 0\n",
      "_________________________________________________________________\n"
     ]
    }
   ],
   "source": [
    "from tensorflow.keras.optimizers import RMSprop\n",
    "\n",
    "model.compile(optimizer=RMSprop(lr=0.001),\n",
    "              loss='binary_crossentropy',\n",
    "              metrics = ['accuracy'])\n",
    "\n",
    "model.summary()"
   ]
  },
  {
   "cell_type": "code",
   "execution_count": 12,
   "metadata": {},
   "outputs": [
    {
     "name": "stdout",
     "output_type": "stream",
     "text": [
      "Epoch 1/100\n",
      "15/15 [==============================] - 0s 21ms/step - loss: 1.6607 - accuracy: 0.5378 - val_loss: 1.5443 - val_accuracy: 0.7204\n",
      "Epoch 2/100\n",
      "15/15 [==============================] - 0s 6ms/step - loss: 1.4629 - accuracy: 0.7467 - val_loss: 1.4258 - val_accuracy: 0.5914\n",
      "Epoch 3/100\n",
      "15/15 [==============================] - 0s 6ms/step - loss: 1.3198 - accuracy: 0.7133 - val_loss: 1.2717 - val_accuracy: 0.7312\n",
      "Epoch 4/100\n",
      "15/15 [==============================] - 0s 6ms/step - loss: 1.2200 - accuracy: 0.7289 - val_loss: 1.1706 - val_accuracy: 0.7204\n",
      "Epoch 5/100\n",
      "15/15 [==============================] - 0s 6ms/step - loss: 1.1119 - accuracy: 0.7600 - val_loss: 1.1179 - val_accuracy: 0.7312\n",
      "Epoch 6/100\n",
      "15/15 [==============================] - 0s 6ms/step - loss: 1.0204 - accuracy: 0.7489 - val_loss: 1.0378 - val_accuracy: 0.7312\n",
      "Epoch 7/100\n",
      "15/15 [==============================] - 0s 6ms/step - loss: 0.9447 - accuracy: 0.7622 - val_loss: 0.9180 - val_accuracy: 0.7527\n",
      "Epoch 8/100\n",
      "15/15 [==============================] - 0s 7ms/step - loss: 0.8759 - accuracy: 0.7489 - val_loss: 0.9107 - val_accuracy: 0.7204\n",
      "Epoch 9/100\n",
      "15/15 [==============================] - 0s 7ms/step - loss: 0.8014 - accuracy: 0.7511 - val_loss: 0.7899 - val_accuracy: 0.6882\n",
      "Epoch 10/100\n",
      "15/15 [==============================] - 0s 6ms/step - loss: 0.7749 - accuracy: 0.7311 - val_loss: 0.7459 - val_accuracy: 0.7419\n",
      "Epoch 11/100\n",
      "15/15 [==============================] - 0s 6ms/step - loss: 0.7477 - accuracy: 0.7444 - val_loss: 0.7272 - val_accuracy: 0.7312\n",
      "Epoch 12/100\n",
      "15/15 [==============================] - 0s 6ms/step - loss: 0.7088 - accuracy: 0.7511 - val_loss: 0.7088 - val_accuracy: 0.7312\n",
      "Epoch 13/100\n",
      "15/15 [==============================] - 0s 6ms/step - loss: 0.6985 - accuracy: 0.7578 - val_loss: 0.7336 - val_accuracy: 0.7312\n",
      "Epoch 14/100\n",
      "15/15 [==============================] - 0s 7ms/step - loss: 0.6720 - accuracy: 0.7711 - val_loss: 0.6885 - val_accuracy: 0.7419\n",
      "Epoch 15/100\n",
      "15/15 [==============================] - 0s 6ms/step - loss: 0.6589 - accuracy: 0.7622 - val_loss: 0.6935 - val_accuracy: 0.7312\n",
      "Epoch 16/100\n",
      "15/15 [==============================] - 0s 4ms/step - loss: 0.6326 - accuracy: 0.7667 - val_loss: 0.6519 - val_accuracy: 0.7419\n",
      "Epoch 17/100\n",
      "15/15 [==============================] - 0s 6ms/step - loss: 0.6122 - accuracy: 0.7644 - val_loss: 0.6533 - val_accuracy: 0.7527\n",
      "Epoch 18/100\n",
      "15/15 [==============================] - 0s 6ms/step - loss: 0.6199 - accuracy: 0.7689 - val_loss: 0.6882 - val_accuracy: 0.7204\n",
      "Epoch 19/100\n",
      "15/15 [==============================] - 0s 5ms/step - loss: 0.5950 - accuracy: 0.7733 - val_loss: 0.6330 - val_accuracy: 0.7419\n",
      "Epoch 20/100\n",
      "15/15 [==============================] - 0s 5ms/step - loss: 0.5816 - accuracy: 0.7733 - val_loss: 0.6221 - val_accuracy: 0.7527\n",
      "Epoch 21/100\n",
      "15/15 [==============================] - 0s 4ms/step - loss: 0.5735 - accuracy: 0.7867 - val_loss: 0.6586 - val_accuracy: 0.6989\n",
      "Epoch 22/100\n",
      "15/15 [==============================] - 0s 4ms/step - loss: 0.5516 - accuracy: 0.7911 - val_loss: 0.6564 - val_accuracy: 0.7204\n",
      "Epoch 23/100\n",
      "15/15 [==============================] - 0s 4ms/step - loss: 0.5516 - accuracy: 0.7822 - val_loss: 0.6381 - val_accuracy: 0.6989\n",
      "Epoch 24/100\n",
      "15/15 [==============================] - 0s 4ms/step - loss: 0.5313 - accuracy: 0.7978 - val_loss: 0.6224 - val_accuracy: 0.7527\n",
      "Epoch 25/100\n",
      "15/15 [==============================] - 0s 4ms/step - loss: 0.5265 - accuracy: 0.8044 - val_loss: 0.5998 - val_accuracy: 0.7204\n",
      "Epoch 26/100\n",
      "15/15 [==============================] - 0s 4ms/step - loss: 0.5068 - accuracy: 0.8111 - val_loss: 0.6384 - val_accuracy: 0.7312\n",
      "Epoch 27/100\n",
      "15/15 [==============================] - 0s 4ms/step - loss: 0.5075 - accuracy: 0.8133 - val_loss: 0.6218 - val_accuracy: 0.7527\n",
      "Epoch 28/100\n",
      "15/15 [==============================] - 0s 4ms/step - loss: 0.4930 - accuracy: 0.8200 - val_loss: 0.6159 - val_accuracy: 0.6989\n",
      "Epoch 29/100\n",
      "15/15 [==============================] - 0s 4ms/step - loss: 0.5065 - accuracy: 0.8244 - val_loss: 0.6033 - val_accuracy: 0.7419\n",
      "Epoch 30/100\n",
      "15/15 [==============================] - 0s 4ms/step - loss: 0.4936 - accuracy: 0.8244 - val_loss: 0.6144 - val_accuracy: 0.7527\n",
      "Epoch 31/100\n",
      "15/15 [==============================] - 0s 4ms/step - loss: 0.4981 - accuracy: 0.8222 - val_loss: 0.5813 - val_accuracy: 0.7634\n",
      "Epoch 32/100\n",
      "15/15 [==============================] - 0s 5ms/step - loss: 0.4842 - accuracy: 0.8200 - val_loss: 0.6230 - val_accuracy: 0.7634\n",
      "Epoch 33/100\n",
      "15/15 [==============================] - 0s 5ms/step - loss: 0.4804 - accuracy: 0.8311 - val_loss: 0.5887 - val_accuracy: 0.7527\n",
      "Epoch 34/100\n",
      "15/15 [==============================] - 0s 5ms/step - loss: 0.4651 - accuracy: 0.8422 - val_loss: 0.6053 - val_accuracy: 0.7419\n",
      "Epoch 35/100\n",
      "15/15 [==============================] - 0s 4ms/step - loss: 0.4820 - accuracy: 0.8156 - val_loss: 0.5842 - val_accuracy: 0.7419\n",
      "Epoch 36/100\n",
      "15/15 [==============================] - 0s 4ms/step - loss: 0.4719 - accuracy: 0.8356 - val_loss: 0.8500 - val_accuracy: 0.6667\n",
      "Epoch 37/100\n",
      "15/15 [==============================] - 0s 4ms/step - loss: 0.4752 - accuracy: 0.8289 - val_loss: 0.5957 - val_accuracy: 0.7634\n",
      "Epoch 38/100\n",
      "15/15 [==============================] - 0s 4ms/step - loss: 0.4647 - accuracy: 0.8333 - val_loss: 0.6608 - val_accuracy: 0.6667\n",
      "Epoch 39/100\n",
      "15/15 [==============================] - 0s 4ms/step - loss: 0.4558 - accuracy: 0.8467 - val_loss: 0.5612 - val_accuracy: 0.7527\n",
      "Epoch 40/100\n",
      "15/15 [==============================] - 0s 4ms/step - loss: 0.4412 - accuracy: 0.8489 - val_loss: 0.5871 - val_accuracy: 0.7204\n",
      "Epoch 41/100\n",
      "15/15 [==============================] - 0s 4ms/step - loss: 0.4401 - accuracy: 0.8289 - val_loss: 0.6360 - val_accuracy: 0.6989\n",
      "Epoch 42/100\n",
      "15/15 [==============================] - 0s 4ms/step - loss: 0.4656 - accuracy: 0.8267 - val_loss: 0.5886 - val_accuracy: 0.7419\n",
      "Epoch 43/100\n",
      "15/15 [==============================] - 0s 5ms/step - loss: 0.4610 - accuracy: 0.8333 - val_loss: 0.6364 - val_accuracy: 0.6774\n",
      "Epoch 44/100\n",
      "15/15 [==============================] - 0s 5ms/step - loss: 0.4550 - accuracy: 0.8556 - val_loss: 0.6898 - val_accuracy: 0.6774\n",
      "Epoch 45/100\n",
      "15/15 [==============================] - 0s 5ms/step - loss: 0.4621 - accuracy: 0.8356 - val_loss: 0.5682 - val_accuracy: 0.7527\n",
      "Epoch 46/100\n",
      "15/15 [==============================] - 0s 4ms/step - loss: 0.4589 - accuracy: 0.8333 - val_loss: 0.5871 - val_accuracy: 0.7204\n",
      "Epoch 47/100\n",
      "15/15 [==============================] - 0s 4ms/step - loss: 0.4351 - accuracy: 0.8400 - val_loss: 0.6267 - val_accuracy: 0.6774\n",
      "Epoch 48/100\n",
      "15/15 [==============================] - 0s 4ms/step - loss: 0.4441 - accuracy: 0.8333 - val_loss: 0.5820 - val_accuracy: 0.6989\n",
      "Epoch 49/100\n",
      "15/15 [==============================] - 0s 4ms/step - loss: 0.4364 - accuracy: 0.8489 - val_loss: 0.5899 - val_accuracy: 0.6989\n",
      "Epoch 50/100\n",
      "15/15 [==============================] - 0s 4ms/step - loss: 0.4504 - accuracy: 0.8311 - val_loss: 0.5678 - val_accuracy: 0.7527\n",
      "Epoch 51/100\n",
      "15/15 [==============================] - 0s 4ms/step - loss: 0.4633 - accuracy: 0.8289 - val_loss: 0.5937 - val_accuracy: 0.6882\n",
      "Epoch 52/100\n",
      "15/15 [==============================] - 0s 4ms/step - loss: 0.4371 - accuracy: 0.8467 - val_loss: 0.5844 - val_accuracy: 0.7097\n",
      "Epoch 53/100\n",
      "15/15 [==============================] - 0s 4ms/step - loss: 0.4511 - accuracy: 0.8289 - val_loss: 0.6483 - val_accuracy: 0.7204\n",
      "Epoch 54/100\n",
      "15/15 [==============================] - 0s 6ms/step - loss: 0.4309 - accuracy: 0.8444 - val_loss: 0.8976 - val_accuracy: 0.6774\n",
      "Epoch 55/100\n",
      "15/15 [==============================] - 0s 5ms/step - loss: 0.4393 - accuracy: 0.8400 - val_loss: 0.5773 - val_accuracy: 0.7419\n",
      "Epoch 56/100\n",
      "15/15 [==============================] - 0s 5ms/step - loss: 0.4384 - accuracy: 0.8444 - val_loss: 0.6062 - val_accuracy: 0.6882\n",
      "Epoch 57/100\n",
      "15/15 [==============================] - 0s 5ms/step - loss: 0.4459 - accuracy: 0.8356 - val_loss: 0.5744 - val_accuracy: 0.7419\n",
      "Epoch 58/100\n",
      "15/15 [==============================] - 0s 5ms/step - loss: 0.4161 - accuracy: 0.8578 - val_loss: 0.8887 - val_accuracy: 0.6774\n",
      "Epoch 59/100\n",
      "15/15 [==============================] - 0s 5ms/step - loss: 0.4688 - accuracy: 0.8178 - val_loss: 0.6164 - val_accuracy: 0.7097\n",
      "Epoch 60/100\n",
      "15/15 [==============================] - 0s 6ms/step - loss: 0.4373 - accuracy: 0.8333 - val_loss: 0.7630 - val_accuracy: 0.6667\n",
      "Epoch 61/100\n",
      "15/15 [==============================] - 0s 5ms/step - loss: 0.4424 - accuracy: 0.8511 - val_loss: 0.5544 - val_accuracy: 0.7097\n",
      "Epoch 62/100\n",
      "15/15 [==============================] - 0s 5ms/step - loss: 0.4275 - accuracy: 0.8333 - val_loss: 0.5467 - val_accuracy: 0.7527\n",
      "Epoch 63/100\n",
      "15/15 [==============================] - 0s 5ms/step - loss: 0.4195 - accuracy: 0.8444 - val_loss: 0.6357 - val_accuracy: 0.7097\n",
      "Epoch 64/100\n",
      "15/15 [==============================] - 0s 4ms/step - loss: 0.4274 - accuracy: 0.8444 - val_loss: 0.5400 - val_accuracy: 0.7419\n",
      "Epoch 65/100\n",
      "15/15 [==============================] - 0s 5ms/step - loss: 0.4418 - accuracy: 0.8333 - val_loss: 0.6029 - val_accuracy: 0.7097\n",
      "Epoch 66/100\n",
      "15/15 [==============================] - 0s 5ms/step - loss: 0.4311 - accuracy: 0.8356 - val_loss: 0.5630 - val_accuracy: 0.7097\n",
      "Epoch 67/100\n",
      "15/15 [==============================] - 0s 4ms/step - loss: 0.4372 - accuracy: 0.8356 - val_loss: 0.5787 - val_accuracy: 0.7204\n",
      "Epoch 68/100\n",
      "15/15 [==============================] - 0s 5ms/step - loss: 0.4149 - accuracy: 0.8422 - val_loss: 0.5716 - val_accuracy: 0.7527\n",
      "Epoch 69/100\n",
      "15/15 [==============================] - 0s 4ms/step - loss: 0.4217 - accuracy: 0.8444 - val_loss: 0.5611 - val_accuracy: 0.6989\n",
      "Epoch 70/100\n",
      "15/15 [==============================] - 0s 4ms/step - loss: 0.4165 - accuracy: 0.8511 - val_loss: 0.5837 - val_accuracy: 0.7527\n",
      "Epoch 71/100\n",
      "15/15 [==============================] - 0s 4ms/step - loss: 0.4319 - accuracy: 0.8422 - val_loss: 0.6656 - val_accuracy: 0.6774\n",
      "Epoch 72/100\n",
      "15/15 [==============================] - 0s 5ms/step - loss: 0.4238 - accuracy: 0.8489 - val_loss: 0.5591 - val_accuracy: 0.7204\n",
      "Epoch 73/100\n",
      "15/15 [==============================] - 0s 4ms/step - loss: 0.4198 - accuracy: 0.8511 - val_loss: 0.5434 - val_accuracy: 0.7527\n",
      "Epoch 74/100\n",
      "15/15 [==============================] - 0s 4ms/step - loss: 0.4084 - accuracy: 0.8511 - val_loss: 0.6374 - val_accuracy: 0.7097\n",
      "Epoch 75/100\n",
      "15/15 [==============================] - 0s 4ms/step - loss: 0.4226 - accuracy: 0.8444 - val_loss: 0.6761 - val_accuracy: 0.6989\n",
      "Epoch 76/100\n",
      "15/15 [==============================] - 0s 4ms/step - loss: 0.4242 - accuracy: 0.8311 - val_loss: 0.5633 - val_accuracy: 0.7419\n",
      "Epoch 77/100\n",
      "15/15 [==============================] - 0s 4ms/step - loss: 0.4110 - accuracy: 0.8378 - val_loss: 0.5716 - val_accuracy: 0.7527\n",
      "Epoch 78/100\n",
      "15/15 [==============================] - 0s 4ms/step - loss: 0.4081 - accuracy: 0.8511 - val_loss: 0.5776 - val_accuracy: 0.7097\n",
      "Epoch 79/100\n",
      "15/15 [==============================] - 0s 4ms/step - loss: 0.4413 - accuracy: 0.8289 - val_loss: 0.5605 - val_accuracy: 0.7419\n",
      "Epoch 80/100\n",
      "15/15 [==============================] - 0s 4ms/step - loss: 0.4137 - accuracy: 0.8511 - val_loss: 0.5559 - val_accuracy: 0.7312\n",
      "Epoch 81/100\n",
      "15/15 [==============================] - 0s 5ms/step - loss: 0.4122 - accuracy: 0.8667 - val_loss: 0.5351 - val_accuracy: 0.7419\n",
      "Epoch 82/100\n",
      "15/15 [==============================] - 0s 4ms/step - loss: 0.4314 - accuracy: 0.8378 - val_loss: 0.5397 - val_accuracy: 0.7419\n",
      "Epoch 83/100\n",
      "15/15 [==============================] - 0s 4ms/step - loss: 0.4032 - accuracy: 0.8422 - val_loss: 0.5617 - val_accuracy: 0.7204\n",
      "Epoch 84/100\n",
      "15/15 [==============================] - 0s 4ms/step - loss: 0.4116 - accuracy: 0.8533 - val_loss: 0.5818 - val_accuracy: 0.7097\n",
      "Epoch 85/100\n",
      "15/15 [==============================] - 0s 5ms/step - loss: 0.4177 - accuracy: 0.8467 - val_loss: 0.5339 - val_accuracy: 0.7527\n",
      "Epoch 86/100\n",
      "15/15 [==============================] - 0s 4ms/step - loss: 0.4160 - accuracy: 0.8400 - val_loss: 0.6379 - val_accuracy: 0.6882\n",
      "Epoch 87/100\n",
      "15/15 [==============================] - 0s 4ms/step - loss: 0.4277 - accuracy: 0.8289 - val_loss: 0.5802 - val_accuracy: 0.7204\n",
      "Epoch 88/100\n",
      "15/15 [==============================] - 0s 4ms/step - loss: 0.4088 - accuracy: 0.8489 - val_loss: 0.5605 - val_accuracy: 0.6882\n",
      "Epoch 89/100\n",
      "15/15 [==============================] - 0s 4ms/step - loss: 0.4035 - accuracy: 0.8444 - val_loss: 0.5528 - val_accuracy: 0.7527\n",
      "Epoch 90/100\n",
      "15/15 [==============================] - 0s 4ms/step - loss: 0.4069 - accuracy: 0.8533 - val_loss: 0.5605 - val_accuracy: 0.7204\n",
      "Epoch 91/100\n",
      "15/15 [==============================] - 0s 4ms/step - loss: 0.4142 - accuracy: 0.8400 - val_loss: 0.5715 - val_accuracy: 0.7527\n",
      "Epoch 92/100\n",
      "15/15 [==============================] - 0s 4ms/step - loss: 0.4125 - accuracy: 0.8400 - val_loss: 0.9110 - val_accuracy: 0.6667\n",
      "Epoch 93/100\n",
      "15/15 [==============================] - 0s 4ms/step - loss: 0.4572 - accuracy: 0.8333 - val_loss: 0.5374 - val_accuracy: 0.7204\n",
      "Epoch 94/100\n",
      "15/15 [==============================] - 0s 5ms/step - loss: 0.4035 - accuracy: 0.8644 - val_loss: 0.5577 - val_accuracy: 0.7527\n",
      "Epoch 95/100\n",
      "15/15 [==============================] - 0s 5ms/step - loss: 0.4152 - accuracy: 0.8356 - val_loss: 0.5500 - val_accuracy: 0.7204\n",
      "Epoch 96/100\n",
      "15/15 [==============================] - 0s 5ms/step - loss: 0.4151 - accuracy: 0.8578 - val_loss: 0.6091 - val_accuracy: 0.7204\n",
      "Epoch 97/100\n",
      "15/15 [==============================] - 0s 4ms/step - loss: 0.4105 - accuracy: 0.8511 - val_loss: 0.5269 - val_accuracy: 0.7204\n",
      "Epoch 98/100\n",
      "15/15 [==============================] - 0s 4ms/step - loss: 0.3917 - accuracy: 0.8511 - val_loss: 0.5469 - val_accuracy: 0.7204\n",
      "Epoch 99/100\n",
      "15/15 [==============================] - 0s 4ms/step - loss: 0.4126 - accuracy: 0.8444 - val_loss: 0.5578 - val_accuracy: 0.7527\n",
      "Epoch 100/100\n",
      "15/15 [==============================] - 0s 4ms/step - loss: 0.3989 - accuracy: 0.8511 - val_loss: 0.6390 - val_accuracy: 0.7097\n"
     ]
    }
   ],
   "source": [
    "history = model.fit(training_features, training_labels, validation_data = (validation_features, validation_labels), epochs=100, callbacks=[callbacks])"
   ]
  },
  {
   "cell_type": "code",
   "execution_count": 13,
   "metadata": {},
   "outputs": [
    {
     "data": {
      "image/png": "[encoded data removed]",
      "text/plain": [
       "<Figure size 432x288 with 1 Axes>"
      ]
     },
     "metadata": {
      "needs_background": "light"
     },
     "output_type": "display_data"
    },
    {
     "data": {
      "image/png": "[encoded data removed]",
      "text/plain": [
       "<Figure size 432x288 with 1 Axes>"
      ]
     },
     "metadata": {
      "needs_background": "light"
     },
     "output_type": "display_data"
    }
   ],
   "source": [
    "import matplotlib.pyplot as plt\n",
    "acc = history.history['accuracy']\n",
    "val_acc = history.history['val_accuracy']\n",
    "loss = history.history['loss']\n",
    "val_loss = history.history['val_loss']\n",
    "\n",
    "epochs = range(len(acc))\n",
    "\n",
    "plt.plot(epochs, acc, 'r', label='Training accuracy')\n",
    "plt.plot(epochs, val_acc, 'b', label='Validation accuracy')\n",
    "plt.title('Training and validation accuracy')\n",
    "plt.legend()\n",
    "plt.figure()\n",
    "\n",
    "plt.plot(epochs, loss, 'r', label='Training Loss')\n",
    "plt.plot(epochs, val_loss, 'b', label='Validation Loss')\n",
    "plt.title('Training and validation loss')\n",
    "plt.legend()\n",
    "\n",
    "plt.show()"
   ]
  },
  {
   "cell_type": "code",
   "execution_count": 14,
   "metadata": {},
   "outputs": [],
   "source": [
    "array = model.predict(testing_features)"
   ]
  },
  {
   "cell_type": "code",
   "execution_count": 15,
   "metadata": {},
   "outputs": [
    {
     "ename": "ModuleNotFoundError",
     "evalue": "No module named 'openpyxl'",
     "output_type": "error",
     "traceback": [
      "\u001b[1;31m---------------------------------------------------------------------------\u001b[0m",
      "\u001b[1;31mModuleNotFoundError\u001b[0m                       Traceback (most recent call last)",
      "\u001b[1;32m<ipython-input-15-5a9f6190b0c7>\u001b[0m in \u001b[0;36m<module>\u001b[1;34m\u001b[0m\n\u001b[0;32m      5\u001b[0m \u001b[0mfilepath\u001b[0m \u001b[1;33m=\u001b[0m \u001b[1;34m'my_excel_file.xlsx'\u001b[0m\u001b[1;33m\u001b[0m\u001b[1;33m\u001b[0m\u001b[0m\n\u001b[0;32m      6\u001b[0m \u001b[1;33m\u001b[0m\u001b[0m\n\u001b[1;32m----> 7\u001b[1;33m \u001b[0mdf\u001b[0m\u001b[1;33m.\u001b[0m\u001b[0mto_excel\u001b[0m\u001b[1;33m(\u001b[0m\u001b[0mfilepath\u001b[0m\u001b[1;33m,\u001b[0m \u001b[0mindex\u001b[0m\u001b[1;33m=\u001b[0m\u001b[1;32mFalse\u001b[0m\u001b[1;33m)\u001b[0m\u001b[1;33m\u001b[0m\u001b[1;33m\u001b[0m\u001b[0m\n\u001b[0m",
      "\u001b[1;32m~\\anaconda3\\envs\\tensorflow\\lib\\site-packages\\pandas\\core\\generic.py\u001b[0m in \u001b[0;36mto_excel\u001b[1;34m(self, excel_writer, sheet_name, na_rep, float_format, columns, header, index, index_label, startrow, startcol, engine, merge_cells, encoding, inf_rep, verbose, freeze_panes)\u001b[0m\n\u001b[0;32m   2179\u001b[0m             \u001b[0mstartcol\u001b[0m\u001b[1;33m=\u001b[0m\u001b[0mstartcol\u001b[0m\u001b[1;33m,\u001b[0m\u001b[1;33m\u001b[0m\u001b[1;33m\u001b[0m\u001b[0m\n\u001b[0;32m   2180\u001b[0m             \u001b[0mfreeze_panes\u001b[0m\u001b[1;33m=\u001b[0m\u001b[0mfreeze_panes\u001b[0m\u001b[1;33m,\u001b[0m\u001b[1;33m\u001b[0m\u001b[1;33m\u001b[0m\u001b[0m\n\u001b[1;32m-> 2181\u001b[1;33m             \u001b[0mengine\u001b[0m\u001b[1;33m=\u001b[0m\u001b[0mengine\u001b[0m\u001b[1;33m,\u001b[0m\u001b[1;33m\u001b[0m\u001b[1;33m\u001b[0m\u001b[0m\n\u001b[0m\u001b[0;32m   2182\u001b[0m         )\n\u001b[0;32m   2183\u001b[0m \u001b[1;33m\u001b[0m\u001b[0m\n",
      "\u001b[1;32m~\\anaconda3\\envs\\tensorflow\\lib\\site-packages\\pandas\\io\\formats\\excel.py\u001b[0m in \u001b[0;36mwrite\u001b[1;34m(self, writer, sheet_name, startrow, startcol, freeze_panes, engine)\u001b[0m\n\u001b[0;32m    724\u001b[0m             \u001b[0mneed_save\u001b[0m \u001b[1;33m=\u001b[0m \u001b[1;32mFalse\u001b[0m\u001b[1;33m\u001b[0m\u001b[1;33m\u001b[0m\u001b[0m\n\u001b[0;32m    725\u001b[0m         \u001b[1;32melse\u001b[0m\u001b[1;33m:\u001b[0m\u001b[1;33m\u001b[0m\u001b[1;33m\u001b[0m\u001b[0m\n\u001b[1;32m--> 726\u001b[1;33m             \u001b[0mwriter\u001b[0m \u001b[1;33m=\u001b[0m \u001b[0mExcelWriter\u001b[0m\u001b[1;33m(\u001b[0m\u001b[0mstringify_path\u001b[0m\u001b[1;33m(\u001b[0m\u001b[0mwriter\u001b[0m\u001b[1;33m)\u001b[0m\u001b[1;33m,\u001b[0m \u001b[0mengine\u001b[0m\u001b[1;33m=\u001b[0m\u001b[0mengine\u001b[0m\u001b[1;33m)\u001b[0m\u001b[1;33m\u001b[0m\u001b[1;33m\u001b[0m\u001b[0m\n\u001b[0m\u001b[0;32m    727\u001b[0m             \u001b[0mneed_save\u001b[0m \u001b[1;33m=\u001b[0m \u001b[1;32mTrue\u001b[0m\u001b[1;33m\u001b[0m\u001b[1;33m\u001b[0m\u001b[0m\n\u001b[0;32m    728\u001b[0m \u001b[1;33m\u001b[0m\u001b[0m\n",
      "\u001b[1;32m~\\anaconda3\\envs\\tensorflow\\lib\\site-packages\\pandas\\io\\excel\\_openpyxl.py\u001b[0m in \u001b[0;36m__init__\u001b[1;34m(self, path, engine, mode, **engine_kwargs)\u001b[0m\n\u001b[0;32m     16\u001b[0m     \u001b[1;32mdef\u001b[0m \u001b[0m__init__\u001b[0m\u001b[1;33m(\u001b[0m\u001b[0mself\u001b[0m\u001b[1;33m,\u001b[0m \u001b[0mpath\u001b[0m\u001b[1;33m,\u001b[0m \u001b[0mengine\u001b[0m\u001b[1;33m=\u001b[0m\u001b[1;32mNone\u001b[0m\u001b[1;33m,\u001b[0m \u001b[0mmode\u001b[0m\u001b[1;33m=\u001b[0m\u001b[1;34m\"w\"\u001b[0m\u001b[1;33m,\u001b[0m \u001b[1;33m**\u001b[0m\u001b[0mengine_kwargs\u001b[0m\u001b[1;33m)\u001b[0m\u001b[1;33m:\u001b[0m\u001b[1;33m\u001b[0m\u001b[1;33m\u001b[0m\u001b[0m\n\u001b[0;32m     17\u001b[0m         \u001b[1;31m# Use the openpyxl module as the Excel writer.\u001b[0m\u001b[1;33m\u001b[0m\u001b[1;33m\u001b[0m\u001b[1;33m\u001b[0m\u001b[0m\n\u001b[1;32m---> 18\u001b[1;33m         \u001b[1;32mfrom\u001b[0m \u001b[0mopenpyxl\u001b[0m\u001b[1;33m.\u001b[0m\u001b[0mworkbook\u001b[0m \u001b[1;32mimport\u001b[0m \u001b[0mWorkbook\u001b[0m\u001b[1;33m\u001b[0m\u001b[1;33m\u001b[0m\u001b[0m\n\u001b[0m\u001b[0;32m     19\u001b[0m \u001b[1;33m\u001b[0m\u001b[0m\n\u001b[0;32m     20\u001b[0m         \u001b[0msuper\u001b[0m\u001b[1;33m(\u001b[0m\u001b[1;33m)\u001b[0m\u001b[1;33m.\u001b[0m\u001b[0m__init__\u001b[0m\u001b[1;33m(\u001b[0m\u001b[0mpath\u001b[0m\u001b[1;33m,\u001b[0m \u001b[0mmode\u001b[0m\u001b[1;33m=\u001b[0m\u001b[0mmode\u001b[0m\u001b[1;33m,\u001b[0m \u001b[1;33m**\u001b[0m\u001b[0mengine_kwargs\u001b[0m\u001b[1;33m)\u001b[0m\u001b[1;33m\u001b[0m\u001b[1;33m\u001b[0m\u001b[0m\n",
      "\u001b[1;31mModuleNotFoundError\u001b[0m: No module named 'openpyxl'"
     ]
    }
   ],
   "source": [
    "df = pd.DataFrame (np.around(array, decimals=3))\n",
    "df.insert(1, \"1\", abs(np.around(array - 1, decimals=3)), \"True\")\n",
    "## save to xlsx file\n",
    "\n",
    "filepath = 'my_excel_file.xlsx'\n",
    "\n",
    "df.to_excel(filepath, index=False)"
   ]
  },
  {
   "cell_type": "code",
   "execution_count": null,
   "metadata": {},
   "outputs": [],
   "source": []
  }
 ],
 "metadata": {
  "kernelspec": {
   "display_name": "Python 3.7.7 64-bit ('tensorflow': conda)",
   "language": "python",
   "name": "python37764bittensorflowcondad4ff650ab2db4c9295e2488d533f4043"
  },
  "language_info": {
   "codemirror_mode": {
    "name": "ipython",
    "version": 3
   },
   "file_extension": ".py",
   "mimetype": "text/x-python",
   "name": "python",
   "nbconvert_exporter": "python",
   "pygments_lexer": "ipython3",
   "version": "3.7.7"
  }
 },
 "nbformat": 4,
 "nbformat_minor": 4
}
