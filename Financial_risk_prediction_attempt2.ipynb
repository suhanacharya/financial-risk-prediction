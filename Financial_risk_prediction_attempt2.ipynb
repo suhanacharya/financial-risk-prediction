{
 "cells": [
  {
   "cell_type": "markdown",
   "metadata": {},
   "source": [
    "# Financial Risk Prediction Attempt 2"
   ]
  },
  {
   "cell_type": "code",
   "execution_count": null,
   "metadata": {},
   "outputs": [],
   "source": [
    "import numpy as np\n",
    "import matplotlib.pyplot as plt\n",
    "import scipy\n",
    "import csv"
   ]
  },
  {
   "cell_type": "markdown",
   "metadata": {},
   "source": [
    "### Collect data from csv file"
   ]
  },
  {
   "cell_type": "code",
   "execution_count": 2,
   "metadata": {},
   "outputs": [],
   "source": [
    "def get_data(filename, data=\"train\"):\n",
    "    with open(filename) as training_file:\n",
    "        csv_reader = csv.reader(training_file, delimiter=',')\n",
    "        next(csv_reader)\n",
    "        temp_features = []\n",
    "        temp_labels = []\n",
    "        val_feat = []\n",
    "        val_lab = []\n",
    "        t = 0\n",
    "        for row in csv_reader:\n",
    "            if data == \"train\":\n",
    "                if t<450:\n",
    "                    temp_features.append(row[1:-2])\n",
    "                    temp_labels.append(row[-1])\n",
    "                    t += 1\n",
    "                else:\n",
    "                    val_feat.append(row[1:-2])\n",
    "                    val_lab.append(row[-1])\n",
    "                    \n",
    "                    \n",
    "            else:\n",
    "                temp_features.append(row[1:-1])\n",
    "                \n",
    "        features = np.array(temp_features).astype('float')\n",
    "        if data == \"train\":\n",
    "            labels = np.array(temp_labels).astype('float')\n",
    "            val_features = np.array(val_feat).astype('float')\n",
    "            val_labels = np.array(val_lab).astype('float')\n",
    "    if data == \"train\":    \n",
    "        return features, labels, val_features, val_labels\n",
    "    else:\n",
    "        return features"
   ]
  },
  {
   "cell_type": "markdown",
   "metadata": {},
   "source": [
    "### Store data in respective Numpy arrays"
   ]
  },
  {
   "cell_type": "code",
   "execution_count": 30,
   "metadata": {},
   "outputs": [],
   "source": [
    "training_features, training_labels, test_features, test_labels = get_data('Train.csv')"
   ]
  },
  {
   "cell_type": "markdown",
   "metadata": {},
   "source": [
    "### Assigning Global variables"
   ]
  },
  {
   "cell_type": "code",
   "execution_count": 31,
   "metadata": {},
   "outputs": [
    {
     "name": "stdout",
     "output_type": "stream",
     "text": [
      "Number of training examples: m_train = 450\n",
      "Number of testing examples: m_test = 93\n",
      "Number of features per training data: num_px = 5\n",
      "training_features shape: (450, 5)\n",
      "training_labels shape: (450,)\n",
      "test_features shape: (93, 5)\n",
      "test_labels shape: (93,)\n"
     ]
    }
   ],
   "source": [
    "m_train = training_features.shape[0]\n",
    "m_test = test_features.shape[0]\n",
    "num_px = training_features.shape[1]\n",
    "\n",
    "print (\"Number of training examples: m_train = \" + str(m_train))\n",
    "print (\"Number of testing examples: m_test = \" + str(m_test))\n",
    "print (\"Number of features per training data: num_px = \" + str(num_px))\n",
    "print (\"training_features shape: \" + str(training_features.shape))\n",
    "print (\"training_labels shape: \" + str(training_labels.shape))\n",
    "print (\"test_features shape: \" + str(test_features.shape))\n",
    "print (\"test_labels shape: \" + str(test_labels.shape))"
   ]
  },
  {
   "cell_type": "markdown",
   "metadata": {},
   "source": [
    "### Changing the dimensions"
   ]
  },
  {
   "cell_type": "code",
   "execution_count": 32,
   "metadata": {},
   "outputs": [
    {
     "name": "stdout",
     "output_type": "stream",
     "text": [
      "training_features shape: (5, 450)\n",
      "training_labels shape: (450, 1)\n",
      "test_features shape: (5, 93)\n",
      "test_labels shape: (93, 1)\n",
      "sanity check after reshaping: [[ 8.032 77.73  59.203 ... 67.522 73.206 13.028]\n",
      " [14.     8.     3.    ...  8.     8.     3.   ]\n",
      " [ 8.     3.    12.    ...  5.     6.     7.   ]\n",
      " [ 3.     3.    11.    ...  7.     5.     6.   ]\n",
      " [ 6.     8.     3.    ...  5.     6.     4.   ]]\n"
     ]
    }
   ],
   "source": [
    "training_features = training_features.T\n",
    "training_labels = training_labels.reshape(m_train, 1)\n",
    "test_features = test_features.T\n",
    "test_labels = test_labels.reshape(m_test, 1)\n",
    "\n",
    "print (\"training_features shape: \" + str(training_features.shape))\n",
    "print (\"training_labels shape: \" + str(training_labels.shape))\n",
    "print (\"test_features shape: \" + str(test_features.shape))\n",
    "print (\"test_labels shape: \" + str(test_labels.shape))\n",
    "\n",
    "print (\"sanity check after reshaping: \" + str(training_features_flatten))"
   ]
  },
  {
   "cell_type": "markdown",
   "metadata": {},
   "source": [
    "## Defining Helper Functions"
   ]
  },
  {
   "cell_type": "code",
   "execution_count": 26,
   "metadata": {},
   "outputs": [],
   "source": [
    "def sigmoid(z):\n",
    "    s = 1 / (1 + np.exp(-z))\n",
    "    return s"
   ]
  },
  {
   "cell_type": "code",
   "execution_count": 27,
   "metadata": {},
   "outputs": [],
   "source": [
    "def initialize_parameters(n_x, n_h, n_y):\n",
    "    \n",
    "    W1 = np.random.randn(n_h, n_x)*0.01\n",
    "    b1 = np.zeros((n_h, 1))\n",
    "    W2 = np.random.randn(n_y, n_h)*0.01\n",
    "    b2 = np.zeros((n_y, 1))\n",
    "    \n",
    "    parameters = {\"W1\": W1,\n",
    "                  \"b1\": b1,\n",
    "                  \"W2\": W2,\n",
    "                  \"b2\": b2}\n",
    "    \n",
    "    return parameters"
   ]
  },
  {
   "cell_type": "code",
   "execution_count": 28,
   "metadata": {},
   "outputs": [
    {
     "ename": "NameError",
     "evalue": "name 'dim' is not defined",
     "output_type": "error",
     "traceback": [
      "\u001b[1;31m---------------------------------------------------------------------------\u001b[0m",
      "\u001b[1;31mNameError\u001b[0m                                 Traceback (most recent call last)",
      "\u001b[1;32m<ipython-input-28-447c54c15abc>\u001b[0m in \u001b[0;36m<module>\u001b[1;34m\u001b[0m\n\u001b[1;32m----> 1\u001b[1;33m \u001b[0mw\u001b[0m\u001b[1;33m,\u001b[0m \u001b[0mb\u001b[0m \u001b[1;33m=\u001b[0m \u001b[0minitialize_with_zeros\u001b[0m\u001b[1;33m(\u001b[0m\u001b[0mdim\u001b[0m\u001b[1;33m)\u001b[0m\u001b[1;33m\u001b[0m\u001b[1;33m\u001b[0m\u001b[0m\n\u001b[0m",
      "\u001b[1;31mNameError\u001b[0m: name 'dim' is not defined"
     ]
    }
   ],
   "source": [
    "n_x, n_y, n_h = num_px, 1, \n",
    "parameters = initialize_parameters(n_x, n_h, n_y)"
   ]
  },
  {
   "cell_type": "code",
   "execution_count": null,
   "metadata": {},
   "outputs": [],
   "source": []
  }
 ],
 "metadata": {
  "kernelspec": {
   "display_name": "Python 3.7.7 64-bit ('tensorflow': conda)",
   "language": "python",
   "name": "python37764bittensorflowcondad4ff650ab2db4c9295e2488d533f4043"
  },
  "language_info": {
   "codemirror_mode": {
    "name": "ipython",
    "version": 3
   },
   "file_extension": ".py",
   "mimetype": "text/x-python",
   "name": "python",
   "nbconvert_exporter": "python",
   "pygments_lexer": "ipython3",
   "version": "3.7.7"
  }
 },
 "nbformat": 4,
 "nbformat_minor": 4
}
